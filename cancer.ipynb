{
 "cells": [
  {
   "cell_type": "code",
   "execution_count": 2,
   "metadata": {},
   "outputs": [
    {
     "name": "stdout",
     "output_type": "stream",
     "text": [
      "load_diabetes\n"
     ]
    }
   ],
   "source": [
    "from sklearn import datasets\n",
    "for i in dir(datasets):\n",
    "    if i =='load_diabetes':\n",
    "        print(i)"
   ]
  },
  {
   "cell_type": "code",
   "execution_count": 3,
   "metadata": {},
   "outputs": [],
   "source": [
    "diab=datasets.load_diabetes()"
   ]
  },
  {
   "cell_type": "code",
   "execution_count": 4,
   "metadata": {},
   "outputs": [
    {
     "data": {
      "text/plain": [
       "['DESCR',\n",
       " 'data',\n",
       " 'data_filename',\n",
       " 'feature_names',\n",
       " 'target',\n",
       " 'target_filename']"
      ]
     },
     "execution_count": 4,
     "metadata": {},
     "output_type": "execute_result"
    }
   ],
   "source": [
    "dir(diab)"
   ]
  },
  {
   "cell_type": "code",
   "execution_count": null,
   "metadata": {},
   "outputs": [],
   "source": []
  },
  {
   "cell_type": "code",
   "execution_count": 19,
   "metadata": {},
   "outputs": [
    {
     "name": "stdout",
     "output_type": "stream",
     "text": [
      "[[ 0.03807591  0.05068012  0.06169621 ... -0.00259226  0.01990842\n",
      "  -0.01764613]\n",
      " [-0.00188202 -0.04464164 -0.05147406 ... -0.03949338 -0.06832974\n",
      "  -0.09220405]\n",
      " [ 0.08529891  0.05068012  0.04445121 ... -0.00259226  0.00286377\n",
      "  -0.02593034]\n",
      " ...\n",
      " [ 0.04170844  0.05068012 -0.01590626 ... -0.01107952 -0.04687948\n",
      "   0.01549073]\n",
      " [-0.04547248 -0.04464164  0.03906215 ...  0.02655962  0.04452837\n",
      "  -0.02593034]\n",
      " [-0.04547248 -0.04464164 -0.0730303  ... -0.03949338 -0.00421986\n",
      "   0.00306441]]\n"
     ]
    }
   ],
   "source": [
    "fea=diab.data\n",
    "diab.data.shape\n",
    "print(fea)"
   ]
  },
  {
   "cell_type": "code",
   "execution_count": 18,
   "metadata": {},
   "outputs": [
    {
     "name": "stdout",
     "output_type": "stream",
     "text": [
      "(442,)\n"
     ]
    }
   ],
   "source": [
    "labels=diab.target\n",
    "print(labels.shape)"
   ]
  },
  {
   "cell_type": "code",
   "execution_count": 8,
   "metadata": {},
   "outputs": [],
   "source": [
    "from sklearn.model_selection import train_test_split\n",
    "data_split=train_test_split(fea,labels,test_size=0.2)\n"
   ]
  },
  {
   "cell_type": "code",
   "execution_count": 9,
   "metadata": {},
   "outputs": [],
   "source": [
    "train_fea,test_fea,train_label,test_label=data_split"
   ]
  },
  {
   "cell_type": "code",
   "execution_count": 34,
   "metadata": {},
   "outputs": [],
   "source": [
    "from sklearn import linear_model\n",
    "regr=linear_model.LinearRegression()\n",
    "trained=regr.fit(train_fea,train_label)"
   ]
  },
  {
   "cell_type": "code",
   "execution_count": 35,
   "metadata": {},
   "outputs": [
    {
     "name": "stdout",
     "output_type": "stream",
     "text": [
      "[ 57. 192. 244. 275. 262.  55.  59. 144. 170.  87.  85. 209. 156. 178.\n",
      "  88. 235.  91. 272.  63.  60. 275.  49. 100. 152. 222.  99. 178. 151.\n",
      " 131.  64. 151. 152. 104. 310.  99. 216. 295. 144. 129. 151.  53.  39.\n",
      "  92. 170. 134. 109. 153.  51. 141. 242. 214.  54. 219. 127. 128.  51.\n",
      " 173.  69.  93.  58. 172. 258. 185.  61. 118. 186. 104. 202. 107. 110.\n",
      " 116. 196. 150. 265.  85. 121. 141. 245. 101. 116. 292. 160. 115. 261.\n",
      "  90.  91. 120. 268. 178.]\n"
     ]
    }
   ],
   "source": [
    "predicted=regr.predict(test_fea)\n",
    "print(test_label)"
   ]
  },
  {
   "cell_type": "code",
   "execution_count": 36,
   "metadata": {},
   "outputs": [
    {
     "name": "stdout",
     "output_type": "stream",
     "text": [
      "[ 44.92985393 223.33402537 176.96797305 236.19733067 160.52588161\n",
      "  82.81414879 119.8150164  187.46510034 135.14125308 103.25814755\n",
      "  58.6471798  167.31163876 165.51454397 196.35279679 100.36277436\n",
      " 173.40803636  91.88025576 198.55457703  54.51220744 134.80582549\n",
      " 222.40132644  86.87924742 152.67093864 118.07136765 197.79133831\n",
      " 234.39793788 162.5945699  211.69743629 160.22786546 112.74813646\n",
      " 172.48437755 230.91970495 103.84251919 257.03990298  57.66707377\n",
      " 165.94551401 225.46299592 124.61358771 189.5365328  169.55548377\n",
      " 100.01633383  66.96564027 129.76912479  91.37966626  76.8740395\n",
      " 170.92975384 116.06370407  79.24419315 180.00380374 285.35399139\n",
      " 140.39990005  95.72409447 138.850829   118.06916514 232.91461473\n",
      " 124.03210746 218.68863089 114.77489722 147.56208675 171.02805429\n",
      " 146.94779832 234.21906859 149.25635466 114.84106564 155.6301381\n",
      " 201.24745547  31.03538837 148.42596279 183.25317991 166.23710092\n",
      "  47.70054365 169.72687445 130.7133254  210.551322   160.92103852\n",
      " 168.50610449 167.05868731 261.05241084 198.2448382  146.30686905\n",
      " 197.94758066 120.36637752 138.99174082 225.59120336  49.22280647\n",
      " 155.17329239 160.72826668 226.39495012 119.50939348]\n"
     ]
    }
   ],
   "source": [
    "print(predicted)"
   ]
  },
  {
   "cell_type": "code",
   "execution_count": 33,
   "metadata": {},
   "outputs": [
    {
     "name": "stdout",
     "output_type": "stream",
     "text": [
      "0\n",
      "0.0\n"
     ]
    }
   ],
   "source": [
    "count=0\n",
    "for i in range(len(predicted)):\n",
    " \n",
    "    if predicted[i] == test_label[i]:\n",
    "        count+=1\n",
    "print(count)        \n",
    "p=(count/len(predicted))*100\n",
    "print(p)"
   ]
  },
  {
   "cell_type": "code",
   "execution_count": null,
   "metadata": {},
   "outputs": [],
   "source": []
  }
 ],
 "metadata": {
  "kernelspec": {
   "display_name": "Python 3",
   "language": "python",
   "name": "python3"
  },
  "language_info": {
   "codemirror_mode": {
    "name": "ipython",
    "version": 3
   },
   "file_extension": ".py",
   "mimetype": "text/x-python",
   "name": "python",
   "nbconvert_exporter": "python",
   "pygments_lexer": "ipython3",
   "version": "3.6.7"
  }
 },
 "nbformat": 4,
 "nbformat_minor": 2
}
