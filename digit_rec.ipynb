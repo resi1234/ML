{
 "cells": [
  {
   "cell_type": "code",
   "execution_count": 3,
   "metadata": {},
   "outputs": [],
   "source": [
    "from sklearn.datasets import load_digits"
   ]
  },
  {
   "cell_type": "code",
   "execution_count": 4,
   "metadata": {},
   "outputs": [],
   "source": [
    "digit=load_digits()"
   ]
  },
  {
   "cell_type": "code",
   "execution_count": 5,
   "metadata": {},
   "outputs": [
    {
     "data": {
      "text/plain": [
       "['DESCR', 'data', 'images', 'target', 'target_names']"
      ]
     },
     "execution_count": 5,
     "metadata": {},
     "output_type": "execute_result"
    }
   ],
   "source": [
    "#describe\n",
    "dir(digit) # 0 to 9 numbers data sets"
   ]
  },
  {
   "cell_type": "code",
   "execution_count": 6,
   "metadata": {},
   "outputs": [
    {
     "data": {
      "text/plain": [
       "array([0, 1, 2, 3, 4, 5, 6, 7, 8, 9])"
      ]
     },
     "execution_count": 6,
     "metadata": {},
     "output_type": "execute_result"
    }
   ],
   "source": [
    "#reading data\n",
    "#digit.DESCR\n",
    "digit.target_names #actual target ,we want to recognize"
   ]
  },
  {
   "cell_type": "code",
   "execution_count": 7,
   "metadata": {},
   "outputs": [
    {
     "data": {
      "text/plain": [
       "array([[ 0.,  0.,  5., ...,  0.,  0.,  0.],\n",
       "       [ 0.,  0.,  0., ..., 10.,  0.,  0.],\n",
       "       [ 0.,  0.,  0., ..., 16.,  9.,  0.],\n",
       "       ...,\n",
       "       [ 0.,  0.,  1., ...,  6.,  0.,  0.],\n",
       "       [ 0.,  0.,  2., ..., 12.,  0.,  0.],\n",
       "       [ 0.,  0., 10., ..., 12.,  1.,  0.]])"
      ]
     },
     "execution_count": 7,
     "metadata": {},
     "output_type": "execute_result"
    }
   ],
   "source": [
    "#features data\n",
    "features=digit.data\n",
    "features"
   ]
  },
  {
   "cell_type": "code",
   "execution_count": 8,
   "metadata": {},
   "outputs": [
    {
     "data": {
      "text/plain": [
       "(1797,)"
      ]
     },
     "execution_count": 8,
     "metadata": {},
     "output_type": "execute_result"
    }
   ],
   "source": [
    "label=digit.target\n",
    "label.shape"
   ]
  },
  {
   "cell_type": "code",
   "execution_count": 29,
   "metadata": {},
   "outputs": [],
   "source": [
    "images=digit.images\n"
   ]
  },
  {
   "cell_type": "code",
   "execution_count": 33,
   "metadata": {},
   "outputs": [
    {
     "data": {
      "image/png": "[encoded data removed]",
      "text/plain": [
       "<Figure size 432x288 with 1 Axes>"
      ]
     },
     "metadata": {
      "needs_background": "light"
     },
     "output_type": "display_data"
    }
   ],
   "source": [
    "import matplotlib.pyplot as plt \n",
    "plt.imshow(images[0])\n",
    "plt.show()"
   ]
  },
  {
   "cell_type": "code",
   "execution_count": 12,
   "metadata": {},
   "outputs": [],
   "source": [
    "#training and testing\n",
    "from sklearn.model_selection import train_test_split\n",
    "train_data,test_data,train_lb,test_lb=train_test_split(digit.data,digit.target,test_size=0.2)"
   ]
  },
  {
   "cell_type": "code",
   "execution_count": 13,
   "metadata": {},
   "outputs": [
    {
     "data": {
      "text/plain": [
       "SVC(C=1.0, cache_size=200, class_weight=None, coef0=0.0,\n",
       "    decision_function_shape='ovr', degree=3, gamma='auto_deprecated',\n",
       "    kernel='rbf', max_iter=-1, probability=False, random_state=None,\n",
       "    shrinking=True, tol=0.001, verbose=False)"
      ]
     },
     "execution_count": 13,
     "metadata": {},
     "output_type": "execute_result"
    }
   ],
   "source": [
    "# calling svm Qualifier\n",
    "from sklearn.svm import SVC\n",
    "SVC()\n"
   ]
  },
  {
   "cell_type": "code",
   "execution_count": 14,
   "metadata": {},
   "outputs": [],
   "source": [
    "clf=SVC() #calling support vector classifier  --svc\n",
    "from sklearn.svm import SVC"
   ]
  },
  {
   "cell_type": "code",
   "execution_count": 20,
   "metadata": {},
   "outputs": [],
   "source": [
    "clf=SVC()"
   ]
  },
  {
   "cell_type": "code",
   "execution_count": 21,
   "metadata": {},
   "outputs": [
    {
     "name": "stderr",
     "output_type": "stream",
     "text": [
      "/home/ubuntu/.local/lib/python3.6/site-packages/sklearn/svm/base.py:193: FutureWarning: The default value of gamma will change from 'auto' to 'scale' in version 0.22 to account better for unscaled features. Set gamma explicitly to 'auto' or 'scale' to avoid this warning.\n",
      "  \"avoid this warning.\", FutureWarning)\n"
     ]
    }
   ],
   "source": [
    "train=clf.fit(train_data,train_lb)"
   ]
  },
  {
   "cell_type": "code",
   "execution_count": 22,
   "metadata": {},
   "outputs": [],
   "source": [
    "predicted=train.predict(test_data)"
   ]
  },
  {
   "cell_type": "code",
   "execution_count": 23,
   "metadata": {},
   "outputs": [
    {
     "data": {
      "text/plain": [
       "array([3, 9, 3, 3, 0, 3, 3, 3, 3, 3, 3, 1, 3, 2, 3, 5, 3, 3, 3, 3, 3, 3,\n",
       "       2, 3, 3, 3, 3, 3, 9, 7, 3, 3, 5, 3, 3, 5, 3, 3, 3, 3, 3, 9, 4, 6,\n",
       "       3, 3, 3, 0, 3, 6, 4, 3, 0, 6, 3, 6, 3, 3, 0, 3, 3, 3, 4, 3, 4, 3,\n",
       "       1, 3, 4, 3, 2, 3, 0, 3, 5, 8, 6, 3, 1, 9, 0, 6, 3, 5, 5, 3, 4, 3,\n",
       "       3, 3, 3, 3, 5, 4, 3, 6, 4, 0, 3, 3, 6, 1, 3, 3, 3, 5, 3, 5, 3, 3,\n",
       "       3, 3, 3, 3, 5, 3, 3, 3, 4, 0, 9, 3, 2, 2, 3, 3, 3, 4, 6, 3, 3, 3,\n",
       "       8, 3, 3, 8, 3, 3, 3, 3, 3, 3, 3, 3, 2, 3, 2, 9, 3, 3, 3, 2, 3, 9,\n",
       "       3, 5, 3, 1, 3, 4, 3, 3, 3, 6, 5, 0, 3, 3, 4, 6, 1, 3, 3, 6, 3, 4,\n",
       "       2, 9, 3, 3, 3, 3, 0, 3, 3, 6, 3, 5, 3, 6, 3, 2, 1, 3, 6, 7, 5, 6,\n",
       "       3, 5, 2, 3, 3, 3, 3, 3, 5, 3, 3, 0, 4, 4, 3, 3, 3, 3, 3, 3, 3, 3,\n",
       "       3, 7, 3, 6, 3, 3, 6, 4, 3, 3, 3, 5, 5, 3, 3, 5, 6, 3, 3, 9, 7, 3,\n",
       "       3, 3, 3, 6, 6, 5, 0, 3, 7, 3, 3, 2, 1, 3, 5, 3, 3, 3, 3, 3, 3, 3,\n",
       "       9, 3, 9, 7, 1, 3, 3, 5, 5, 3, 4, 5, 0, 3, 6, 3, 3, 9, 3, 3, 3, 3,\n",
       "       3, 3, 3, 0, 6, 6, 7, 3, 6, 3, 8, 3, 3, 3, 3, 3, 3, 3, 3, 4, 5, 3,\n",
       "       3, 3, 6, 4, 3, 4, 4, 3, 3, 3, 3, 3, 5, 3, 0, 3, 3, 3, 3, 5, 4, 3,\n",
       "       3, 3, 3, 3, 7, 3, 3, 5, 1, 3, 3, 3, 3, 4, 3, 6, 4, 3, 1, 3, 3, 5,\n",
       "       3, 3, 3, 2, 5, 3, 3, 3])"
      ]
     },
     "execution_count": 23,
     "metadata": {},
     "output_type": "execute_result"
    }
   ],
   "source": [
    "predicted"
   ]
  },
  {
   "cell_type": "code",
   "execution_count": 24,
   "metadata": {},
   "outputs": [
    {
     "data": {
      "text/plain": [
       "array([7, 9, 8, 0, 0, 7, 8, 7, 7, 2, 9, 1, 9, 2, 2, 5, 2, 8, 3, 7, 9, 3,\n",
       "       2, 2, 3, 5, 8, 7, 9, 7, 3, 8, 5, 8, 0, 5, 9, 1, 4, 3, 3, 9, 4, 6,\n",
       "       3, 7, 2, 0, 3, 6, 4, 6, 0, 6, 1, 6, 7, 0, 0, 8, 5, 3, 4, 3, 4, 7,\n",
       "       1, 8, 4, 9, 2, 4, 0, 1, 5, 8, 6, 1, 1, 9, 0, 6, 8, 5, 5, 4, 4, 9,\n",
       "       8, 8, 1, 7, 5, 4, 6, 6, 4, 0, 2, 2, 6, 1, 7, 7, 1, 5, 2, 5, 9, 0,\n",
       "       1, 3, 2, 3, 5, 1, 1, 8, 4, 0, 9, 5, 2, 2, 7, 8, 1, 4, 6, 6, 8, 7,\n",
       "       8, 3, 2, 8, 8, 7, 4, 1, 3, 8, 7, 2, 2, 7, 2, 9, 8, 7, 3, 2, 3, 9,\n",
       "       1, 5, 2, 1, 3, 4, 3, 7, 4, 6, 5, 0, 6, 9, 4, 6, 1, 0, 7, 6, 9, 4,\n",
       "       2, 9, 7, 3, 3, 3, 0, 7, 1, 6, 7, 5, 8, 6, 1, 2, 1, 7, 6, 7, 5, 6,\n",
       "       0, 5, 2, 8, 8, 2, 5, 2, 5, 3, 3, 0, 4, 4, 3, 7, 9, 9, 1, 2, 0, 4,\n",
       "       8, 7, 1, 6, 7, 0, 6, 4, 1, 2, 8, 5, 5, 3, 9, 5, 6, 9, 7, 9, 7, 3,\n",
       "       8, 1, 2, 6, 6, 5, 0, 7, 7, 7, 9, 2, 1, 8, 5, 8, 9, 3, 2, 8, 1, 3,\n",
       "       9, 1, 9, 7, 1, 1, 1, 5, 5, 7, 4, 5, 0, 3, 6, 9, 8, 9, 0, 2, 2, 0,\n",
       "       8, 6, 9, 0, 6, 6, 7, 3, 6, 9, 8, 7, 7, 9, 9, 8, 9, 8, 3, 4, 5, 0,\n",
       "       2, 1, 6, 4, 4, 4, 4, 7, 8, 1, 3, 0, 5, 8, 0, 1, 8, 8, 9, 5, 4, 1,\n",
       "       6, 9, 9, 7, 7, 8, 1, 5, 1, 2, 1, 9, 7, 4, 8, 6, 4, 3, 1, 5, 3, 5,\n",
       "       7, 5, 6, 2, 5, 1, 2, 3])"
      ]
     },
     "execution_count": 24,
     "metadata": {},
     "output_type": "execute_result"
    }
   ],
   "source": [
    "test_lb"
   ]
  },
  {
   "cell_type": "code",
   "execution_count": 25,
   "metadata": {},
   "outputs": [
    {
     "name": "stdout",
     "output_type": "stream",
     "text": [
      "179\n",
      "49.72222222222222\n"
     ]
    }
   ],
   "source": [
    "count=0\n",
    "for i in range(len(predicted)):\n",
    " \n",
    "    if predicted[i] == test_lb[i]:\n",
    "        count+=1\n",
    "print(count)        \n",
    "p=(count/len(predicted))*100\n",
    "print(p)"
   ]
  },
  {
   "cell_type": "code",
   "execution_count": null,
   "metadata": {},
   "outputs": [],
   "source": []
  }
 ],
 "metadata": {
  "kernelspec": {
   "display_name": "Python 3",
   "language": "python",
   "name": "python3"
  },
  "language_info": {
   "codemirror_mode": {
    "name": "ipython",
    "version": 3
   },
   "file_extension": ".py",
   "mimetype": "text/x-python",
   "name": "python",
   "nbconvert_exporter": "python",
   "pygments_lexer": "ipython3",
   "version": "3.6.7"
  }
 },
 "nbformat": 4,
 "nbformat_minor": 2
}
